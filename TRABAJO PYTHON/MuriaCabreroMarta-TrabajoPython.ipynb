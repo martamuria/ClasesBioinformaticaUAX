{
 "cells": [
  {
   "cell_type": "markdown",
   "metadata": {},
   "source": [
    "# TRABAJO DE PYTHON\n",
    "\n",
    "### Este trabajo cuenta el 30% de la nota. La entrega será el 5 de Noviembre a las 23:59.\n",
    "\n",
    "### Resuelve los siguientes ejercicios en Python sin usar expresiones regulares\n",
    "\n",
    "#### Utiliza tantas celdas de código como necesites\n",
    "\n",
    "##\n",
    "\n",
    "\n",
    "\n",
    "\n",
    "\n",
    "\n",
    "\n"
   ]
  },
  {
   "cell_type": "markdown",
   "metadata": {},
   "source": [
    "### 1.- BUSCA LA SECUENCIA COMPLEMENTARIA\n",
    "#### Devuelve la secuencia complementaria de la siguiente secuencia de ADN"
   ]
  },
  {
   "cell_type": "code",
   "execution_count": 24,
   "metadata": {},
   "outputs": [],
   "source": [
    "my_dna = \"ACTGATCGATTACGTATAGTATTTGCTATCATACATATATATCGATGCGTTCAT\""
   ]
  },
  {
   "cell_type": "code",
   "execution_count": 26,
   "metadata": {},
   "outputs": [
    {
     "name": "stdout",
     "output_type": "stream",
     "text": [
      "TGACTAGCTAATGCATATCATAAACGATAGTATGTATATATAGCTACGCAAGTA\n"
     ]
    }
   ],
   "source": [
    "my_dna = \"ACTGATCGATTACGTATAGTATTTGCTATCATACATATATATCGATGCGTTCAT\"\n",
    "complementary_dna = \"\"\n",
    "\n",
    "for base in my_dna:\n",
    "    if base == 'A':\n",
    "        complementary_dna += 'T'\n",
    "    elif base == 'T':\n",
    "        complementary_dna += 'A'\n",
    "    elif base == 'C':\n",
    "        complementary_dna += 'G'\n",
    "    elif base == 'G':\n",
    "        complementary_dna += 'C'\n",
    "\n",
    "print(complementary_dna)"
   ]
  },
  {
   "cell_type": "markdown",
   "metadata": {},
   "source": [
    "##\n",
    "### 2.- FRAGMENTOS DE RESTRICCION\n",
    "#### Obtén los fragmentos de restricción de EcoRI, que tiene un sitio de corte en G*AATTC (la posición de corte se indica por el *).\n",
    "#### No uses expresiones regulares. \n",
    "#### Pista: utiliza la función find()"
   ]
  },
  {
   "cell_type": "code",
   "execution_count": 7,
   "metadata": {
    "scrolled": true
   },
   "outputs": [],
   "source": [
    "my_dna = \"ACTGATCGATTACGTATAGTATTTGCTATGAATTCCATACATATATATCGATGCGTTCAT\""
   ]
  },
  {
   "cell_type": "code",
   "execution_count": 8,
   "metadata": {},
   "outputs": [],
   "source": [
    "posicion_corte = my_dna.find(\"AATTC\")"
   ]
  },
  {
   "cell_type": "code",
   "execution_count": 9,
   "metadata": {},
   "outputs": [
    {
     "name": "stdout",
     "output_type": "stream",
     "text": [
      "Fragmento 1: ACTGATCGATTACGTATAGTATTTGCTATG\n",
      "Fragmento 2: AATTCCATACATATATATCGATGCGTTCAT\n"
     ]
    }
   ],
   "source": [
    "if posicion_corte != -1:\n",
    "    fragmento1 = my_dna[:posicion_corte]  # Fragmento antes del sitio de corte\n",
    "    fragmento2 = my_dna[posicion_corte:]  # Fragmento después del sitio de corte\n",
    "\n",
    "    print(\"Fragmento 1:\", fragmento1)\n",
    "    print(\"Fragmento 2:\", fragmento2)"
   ]
  },
  {
   "cell_type": "markdown",
   "metadata": {},
   "source": [
    "##\n",
    "### 3.- ENCUENTRA LOS EXONES\n",
    "#### Encuentra los exones en la siguiente secuencia\n",
    "1. El primer exón va de la primera base a la base 63 (empieza a contar desde 0)\n",
    "2. El segundo exón va de la base 91 (contando desde 0) hasta el final\n",
    "3. Calcula el porcentaje de secuencia codificante\n",
    "4. Imprime en pantalla la secuencia original con los exones en mayúsculas y los intrones en minúsculas"
   ]
  },
  {
   "cell_type": "code",
   "execution_count": 2,
   "metadata": {},
   "outputs": [],
   "source": [
    "genomic_dna = \"ATCGATCGATCGATCGACTGACTAGTCATAGCTATGCATGTAGCTACTCGATCGATCGATCGATCGATCGATCGATCGATCGATCATGCTATCATCGATCGATATCGATGCATCGACTACTAT\""
   ]
  },
  {
   "cell_type": "code",
   "execution_count": 41,
   "metadata": {},
   "outputs": [
    {
     "name": "stdout",
     "output_type": "stream",
     "text": [
      "Primer exón:\n",
      "ATCGATCGATCGATCGACTGACTAGTCATAGCTATGCATGTAGCTACTCGATCGATCGATCGA\n"
     ]
    }
   ],
   "source": [
    "primer_exon = genomic_dna[:63]\n",
    "print(\"Primer exón:\")\n",
    "print(primer_exon)"
   ]
  },
  {
   "cell_type": "code",
   "execution_count": 42,
   "metadata": {},
   "outputs": [
    {
     "name": "stdout",
     "output_type": "stream",
     "text": [
      "Segundo exón:\n",
      "ATCATCGATCGATATCGATGCATCGACTACTAT\n"
     ]
    }
   ],
   "source": [
    "segundo_exon = genomic_dna[90:]\n",
    "print(\"Segundo exón:\")\n",
    "print(segundo_exon)"
   ]
  },
  {
   "cell_type": "code",
   "execution_count": 43,
   "metadata": {},
   "outputs": [
    {
     "name": "stdout",
     "output_type": "stream",
     "text": [
      "Porcentaje de secuencia codificante: 78.04878048780488 %\n"
     ]
    }
   ],
   "source": [
    "longitud_codificante = len(primer_exon) + len(segundo_exon)\n",
    "longitud_total = len(genomic_dna)\n",
    "porcentaje_codificante = (longitud_codificante / longitud_total) * 100\n",
    "print(\"Porcentaje de secuencia codificante:\", porcentaje_codificante, \"%\")"
   ]
  },
  {
   "cell_type": "code",
   "execution_count": 45,
   "metadata": {},
   "outputs": [
    {
     "name": "stdout",
     "output_type": "stream",
     "text": [
      "Secuencia con exones en mayúsculas e intrones en minúsculas:\n",
      "ATCGATCGATCGATCGACTGACTAGTCATAGCTATGCATGTAGCTACTCGATCGATCGATCGAtcgatcgatcgatcgatcgatcatgctATCATCGATCGATATCGATGCATCGACTACTAT\n"
     ]
    }
   ],
   "source": [
    "secuencia_final = primer_exon.upper() + genomic_dna[63:90].lower() + segundo_exon.upper()\n",
    "print(\"Secuencia con exones en mayúsculas e intrones en minúsculas:\")\n",
    "print(secuencia_final)"
   ]
  },
  {
   "cell_type": "markdown",
   "metadata": {},
   "source": [
    "##\n",
    "### 4.- ESCRIBE UN ARCHIVO FASTA\n",
    "#### Escribe un archivo FASTA que tenga las siguientes secuencias:\n",
    "1. ABC123 \tATCGTACGATCGATCGATCGCTAGACGTATCG\n",
    "2. DEF456 \tactgatcgacgatcgatcgatcacgact\n",
    "3. HIJ789 \tACTGAC-ACTGT--ACTGTA----CATGTG\n",
    "\n",
    "###### *Ten en cuenta que todas las secuencias deben tener solo ATGC caracteres y tienen que estar en mayúsculas\n",
    "###### Recuerda que las secuencias en FASTA empiezan por una línea \">identificador\" y la siguiente línea tiene la secuencia\n",
    "\n",
    "###### >ABC123\n",
    "###### ATCGTACGATCGATCGATCGCTAGACGTATCG\n",
    "###### >DEF456\n",
    "###### ACTGATCGACGATCGATCGATCACGACT\n",
    "###### >HIJ789\n",
    "###### ACTGACACTGTACTGTACATGTG"
   ]
  },
  {
   "cell_type": "code",
   "execution_count": 29,
   "metadata": {},
   "outputs": [
    {
     "name": "stdout",
     "output_type": "stream",
     "text": [
      "secuencias.fasta\n"
     ]
    }
   ],
   "source": [
    "d = {\n",
    "    'ABC123': 'ATCGTACGATCGATCGATCGCTAGACGTATCG',\n",
    "    'DEF456': 'actgatcgacgatcgatcgatcacgact',\n",
    "    'HIJ789': 'ACTGAC-ACTGT--ACTGTA----CATGTG'\n",
    "}\n",
    "\n",
    "# Nombre del archivo FASTA de salida\n",
    "output_file = \"secuencias.fasta\"\n",
    "\n",
    "with open(output_file, \"w\") as fasta_file:\n",
    "    for key in d.keys():\n",
    "        # Limpiar y convertir la secuencia a mayúsculas\n",
    "        secuencia = d[key].replace(\"-\", \"\").upper()\n",
    "\n",
    "        # Escribir el identificador y la secuencia en el archivo FASTA\n",
    "        fasta_file.write(f\">{key}\\n{secuencia}\\n\")\n",
    "\n",
    "print(output_file)"
   ]
  },
  {
   "cell_type": "markdown",
   "metadata": {},
   "source": [
    "##\n",
    "### 5.- ELIMINA ADAPTADORES\n",
    "#### El archivo input.txt tiene unas secuencias de ADN, una por línea. \n",
    "#### Todas las secuencias empiezan con el mismo adaptador que llega hasta la base 14. Escribe un programa que:\n",
    "1. Remueva el adaptador de la secuencia y escriba la secuencia limpia en un archivo\n",
    "2. Imprima en pantalla la longitud de cada secuencia limpia"
   ]
  },
  {
   "cell_type": "code",
   "execution_count": 30,
   "metadata": {},
   "outputs": [
    {
     "name": "stdout",
     "output_type": "stream",
     "text": [
      "Longitud de la secuencia limpia: 42\n",
      "Longitud de la secuencia limpia: 37\n",
      "Longitud de la secuencia limpia: 48\n",
      "Longitud de la secuencia limpia: 33\n",
      "Longitud de la secuencia limpia: 47\n",
      "secuencias_limpias.txt\n"
     ]
    }
   ],
   "source": [
    "# Nombre del archivo de entrada y salida\n",
    "input_file = \"input.txt\"\n",
    "output_file = \"secuencias_limpias.txt\"\n",
    "\n",
    "# Abrir el archivo de entrada y el archivo de salida\n",
    "with open(input_file, \"r\") as input_f, open(output_file, \"w\") as output_f:\n",
    "    for linea in input_f:\n",
    "        # Remover el adaptador (primeras 14 bases)\n",
    "        secuencia_limpia = linea[14:].strip()\n",
    "\n",
    "        # Escribir la secuencia limpia en el archivo de salida\n",
    "        output_f.write(secuencia_limpia + \"\\n\")\n",
    "\n",
    "        # Imprimir la longitud de la secuencia limpia\n",
    "        print(f\"Longitud de la secuencia limpia: {len(secuencia_limpia)}\")\n",
    "\n",
    "print(output_file)\n"
   ]
  },
  {
   "cell_type": "markdown",
   "metadata": {},
   "source": [
    "##\n",
    "### 6.- PORCENTAJE DE AMINO ACIDOS\n",
    "#### Escribe una función que tome dos argumentos: una secuencia de proteínas y un amino ácido. \n",
    "#### Queremos que devuelva el porcentaje del amino ácido en la secuencia de proteínas. \n",
    "#### Una vez que tengas hecha tu función, emplea las siguientes aserciones para comprobar tu código."
   ]
  },
  {
   "cell_type": "code",
   "execution_count": 93,
   "metadata": {},
   "outputs": [],
   "source": [
    "assert my_function(\"MSRSLLLRFLLFLLLLPPLP\", \"M\") == 5\n",
    "assert my_function(\"MSRSLLLRFLLFLLLLPPLP\", \"r\") == 10\n",
    "assert my_function(\"msrslllrfllfllllpplp\", \"L\") == 50\n",
    "assert my_function(\"MSRSLLLRFLLFLLLLPPLP\", \"Y\") == 0"
   ]
  },
  {
   "cell_type": "code",
   "execution_count": 82,
   "metadata": {},
   "outputs": [],
   "source": [
    "def calcular_porcentaje_aminoacido(secuencia_proteina, aminoacido):\n",
    "    secuencia_proteina = secuencia_proteina.upper ()\n",
    "    aminoacido = aminoacido.upper()\n",
    "    cantidad_aminoacido = secuencia_proteina.count(aminoacido)\n",
    "    longitud_secuencia = len(secuencia_proteina)\n",
    "    porcentaje = (cantidad_aminoacido / longitud_secuencia) * 100\n",
    "\n",
    "    return porcentaje"
   ]
  },
  {
   "cell_type": "code",
   "execution_count": 83,
   "metadata": {},
   "outputs": [
    {
     "name": "stdout",
     "output_type": "stream",
     "text": [
      "Porcentaje M : 5.00%\n"
     ]
    }
   ],
   "source": [
    "secuencia_proteina = \"MSRSLLLRFLLFLLLLPPLP\"\n",
    "aminoacido = \"M\"\n",
    "porcentaje_M = calcular_porcentaje_aminoacido(secuencia_proteina, aminoacido)\n",
    "print (f\"Porcentaje {aminoacido} : {porcentaje_M:.2f}%\")"
   ]
  },
  {
   "cell_type": "code",
   "execution_count": 86,
   "metadata": {},
   "outputs": [
    {
     "name": "stdout",
     "output_type": "stream",
     "text": [
      "Porcentaje p : 15.00%\n"
     ]
    }
   ],
   "source": [
    "secuencia_proteina = \"MSRSLLLRFLLFLLLLPPLP\"\n",
    "aminoacido =\"p\"\n",
    "porcentaje_r = calcular_porcentaje_aminoacido(secuencia_proteina, aminoacido)\n",
    "print (f\"Porcentaje {aminoacido} : {porcentaje_r:.2f}%\")"
   ]
  },
  {
   "cell_type": "code",
   "execution_count": 89,
   "metadata": {},
   "outputs": [
    {
     "name": "stdout",
     "output_type": "stream",
     "text": [
      "Porcentaje L : 50.00%\n"
     ]
    }
   ],
   "source": [
    "secuencia_proteina = \"MSRSLLLRFLLFLLLLPPLP\"\n",
    "aminoacido = \"L\"\n",
    "porcentaje_L = calcular_porcentaje_aminoacido(secuencia_proteina, aminoacido)\n",
    "print(f\"Porcentaje {aminoacido} : {porcentaje_L:.2f}%\")"
   ]
  },
  {
   "cell_type": "code",
   "execution_count": 92,
   "metadata": {},
   "outputs": [
    {
     "name": "stdout",
     "output_type": "stream",
     "text": [
      "Porcentaje Y: 0.00%\n"
     ]
    }
   ],
   "source": [
    "secuencia_proteina = \"MSRSLLLRFLLFLLLLPPLP\"\n",
    "aminoacido = \"Y\"\n",
    "porcentaje_Y = calcular_porcentaje_aminoacido(secuencia_proteina, aminoacido)\n",
    "print(f\"Porcentaje {aminoacido}: {porcentaje_Y:.2f}%\")"
   ]
  }
 ],
 "metadata": {
  "kernelspec": {
   "display_name": "Python 3 (ipykernel)",
   "language": "python",
   "name": "python3"
  },
  "language_info": {
   "codemirror_mode": {
    "name": "ipython",
    "version": 3
   },
   "file_extension": ".py",
   "mimetype": "text/x-python",
   "name": "python",
   "nbconvert_exporter": "python",
   "pygments_lexer": "ipython3",
   "version": "3.11.4"
  }
 },
 "nbformat": 4,
 "nbformat_minor": 4
}
